{
 "cells": [
  {
   "cell_type": "markdown",
   "metadata": {},
   "source": [
    "## Question 3\n",
    "Take grayscale image of size $512*512$ and illusttrate the histogram of the image and make single threshold segmentation observed from the histogram."
   ]
  },
  {
   "cell_type": "code",
   "execution_count": 2,
   "metadata": {},
   "outputs": [],
   "source": [
    "import numpy as np\n",
    "from PIL import Image\n",
    "import matplotlib.pyplot as plt"
   ]
  },
  {
   "cell_type": "code",
   "execution_count": 3,
   "metadata": {},
   "outputs": [],
   "source": [
    "def get_histrogram(input):\n",
    "    output = np.zeros(256, dtype='uint8')\n",
    "    height, width = input.shape\n",
    "\n",
    "    for x in range(height):\n",
    "        for y in range(width):\n",
    "            output[input[x, y]] += 1\n",
    "\n",
    "    return output"
   ]
  },
  {
   "cell_type": "code",
   "execution_count": 4,
   "metadata": {},
   "outputs": [],
   "source": [
    "def getHistrogram(image):\n",
    "    # process image intensity\n",
    "    max_intensity = np.max(image)\n",
    "    min_intensity = np.min(image)\n",
    "    if min_intensity>=0 and max_intensity<=1:\n",
    "        image = image*255\n",
    "    rounded_image = np.round(image)\n",
    "    integer_image = rounded_image.astype(np.uint8)\n",
    "    \n",
    "    # make histrogram\n",
    "    histrogram = np.zeros(256, dtype='uint8')\n",
    "    height, width = integer_image.shape\n",
    "    \n",
    "    for x in range(height):\n",
    "        for y in range(width):\n",
    "            histrogram[integer_image[x, y]] += 1\n",
    "\n",
    "    return histrogram, np.arange(256)"
   ]
  },
  {
   "cell_type": "code",
   "execution_count": 11,
   "metadata": {},
   "outputs": [
    {
     "data": {
      "image/png": "[encoded data removed]",
      "text/plain": [
       "<Figure size 640x480 with 1 Axes>"
      ]
     },
     "metadata": {},
     "output_type": "display_data"
    }
   ],
   "source": [
    "# histrogram of original image\n",
    "original_image = plt.imread('head.tif')\n",
    "histrogram, x_axis = getHistrogram(original_image)\n",
    "x_axis = np.arange(0, 256, 1)\n",
    "plt.bar(x_axis, histrogram)\n",
    "plt.axvline(x=128, color='r')\n",
    "plt.show()"
   ]
  }
 ],
 "metadata": {
  "kernelspec": {
   "display_name": "base",
   "language": "python",
   "name": "python3"
  },
  "language_info": {
   "codemirror_mode": {
    "name": "ipython",
    "version": 3
   },
   "file_extension": ".py",
   "mimetype": "text/x-python",
   "name": "python",
   "nbconvert_exporter": "python",
   "pygments_lexer": "ipython3",
   "version": "3.11.3"
  },
  "orig_nbformat": 4
 },
 "nbformat": 4,
 "nbformat_minor": 2
}
